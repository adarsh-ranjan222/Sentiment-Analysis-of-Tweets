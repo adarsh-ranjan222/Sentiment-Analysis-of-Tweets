{
 "cells": [
  {
   "cell_type": "code",
   "execution_count": 1,
   "metadata": {
    "_cell_guid": "b1076dfc-b9ad-4769-8c92-a6c4dae69d19",
    "_uuid": "8f2839f25d086af736a60e9eeb907d3b93b6e0e5"
   },
   "outputs": [
    {
     "name": "stdout",
     "output_type": "stream",
     "text": [
      "/kaggle/input/nlpword2vecembeddingspretrained/glove.6B.50d.txt\n",
      "/kaggle/input/nlpword2vecembeddingspretrained/glove.6B.200d.txt\n",
      "/kaggle/input/nlpword2vecembeddingspretrained/GoogleNews-vectors-negative300.bin\n",
      "/kaggle/input/nlpword2vecembeddingspretrained/glove.6B.100d.txt\n",
      "/kaggle/input/nlpword2vecembeddingspretrained/glove.6B.300d.txt\n",
      "/kaggle/input/sentiment-analysis-of-tweets/test_samples.txt\n",
      "/kaggle/input/sentiment-analysis-of-tweets/train.txt\n"
     ]
    }
   ],
   "source": [
    "# This Python 3 environment comes with many helpful analytics libraries installed\n",
    "# It is defined by the kaggle/python Docker image: https://github.com/kaggle/docker-python\n",
    "# For example, here's several helpful packages to load\n",
    "\n",
    "import numpy as np # linear algebra\n",
    "import pandas as pd # data processing, CSV file I/O (e.g. pd.read_csv)\n",
    "\n",
    "# Input data files are available in the read-only \"../input/\" directory\n",
    "# For example, running this (by clicking run or pressing Shift+Enter) will list all files under the input directory\n",
    "\n",
    "import os\n",
    "for dirname, _, filenames in os.walk('/kaggle/input'):\n",
    "    for filename in filenames:\n",
    "        print(os.path.join(dirname, filename))\n",
    "\n",
    "# You can write up to 5GB to the current directory (/kaggle/working/) that gets preserved as output when you create a version using \"Save & Run All\" \n",
    "# You can also write temporary files to /kaggle/temp/, but they won't be saved outside of the current session"
   ]
  },
  {
   "cell_type": "code",
   "execution_count": 2,
   "metadata": {
    "_cell_guid": "79c7e3d0-c299-4dcb-8224-4455121ee9b0",
    "_uuid": "d629ff2d2480ee46fbb7e2d37f6b5fab8052498a"
   },
   "outputs": [
    {
     "name": "stdout",
     "output_type": "stream",
     "text": [
      "Total number of word vectors are 400000\n"
     ]
    }
   ],
   "source": [
    "embeddings_index = {}\n",
    "f = open('/kaggle/input/nlpword2vecembeddingspretrained/glove.6B.300d.txt')\n",
    "for line in f:\n",
    "    values = line.split()\n",
    "    word = values[0]\n",
    "    coefs = np.asarray(values[1: ], dtype = 'float32')\n",
    "    embeddings_index[word] = coefs\n",
    " \n",
    "f.close()\n",
    "print(f'Total number of word vectors are {len(embeddings_index)}')"
   ]
  },
  {
   "cell_type": "code",
   "execution_count": 3,
   "metadata": {},
   "outputs": [],
   "source": [
    "import tensorflow as tf\n",
    "from tensorflow import keras\n",
    "from sklearn.model_selection import train_test_split\n",
    "from keras.preprocessing import text, sequence\n",
    "from keras import layers\n",
    "from sklearn import preprocessing \n",
    "import re"
   ]
  },
  {
   "cell_type": "code",
   "execution_count": 4,
   "metadata": {},
   "outputs": [],
   "source": [
    "df_data = pd.read_csv(\"/kaggle/input/sentiment-analysis-of-tweets/train.txt\")\n",
    "df_test = pd.read_csv(\"/kaggle/input/sentiment-analysis-of-tweets/test_samples.txt\")\n",
    "X_df = df_data['tweet_text'].values\n",
    "Y_df = df_data['sentiment'].values\n",
    "le = preprocessing.LabelEncoder()\n",
    "le.fit(Y_df)\n",
    "y = le.transform(Y_df)\n",
    "Y = keras.utils.to_categorical(y, 3)"
   ]
  },
  {
   "cell_type": "code",
   "execution_count": 5,
   "metadata": {},
   "outputs": [],
   "source": [
    "def replace_unicodes(tweet):\n",
    "    text = tweet.replace(\"\\\\u2019\",\"'\")\n",
    "    text = text.replace(\"\\\\u002c\",\",\")\n",
    "    return text\n",
    "\n",
    "xdf = df_data['tweet_text'].apply(replace_unicodes)"
   ]
  },
  {
   "cell_type": "code",
   "execution_count": 6,
   "metadata": {},
   "outputs": [],
   "source": [
    "def preprocess(tweets):\n",
    "    result = ' '.join(re.sub(\"(@[A-Za-z0-9]+)|(#[A-Za-z0-9]+)|(\\w+:\\/\\/\\S+)\",\" \",tweets).split())\n",
    "    return result\n",
    "\n",
    "xdf = xdf.apply(preprocess)"
   ]
  },
  {
   "cell_type": "code",
   "execution_count": 7,
   "metadata": {},
   "outputs": [],
   "source": [
    "cList = {\n",
    "  \"ain't\": \"am not\",\n",
    "  \"aren't\": \"are not\",\n",
    "  \"can't\": \"cannot\",\n",
    "  \"can't've\": \"cannot have\",\n",
    "  \"'cause\": \"because\",\n",
    "  \"could've\": \"could have\",\n",
    "  \"couldn't\": \"could not\",\n",
    "  \"couldn't've\": \"could not have\",\n",
    "  \"didn't\": \"did not\",\n",
    "  \"doesn't\": \"does not\",\n",
    "  \"don't\": \"do not\",\n",
    "  \"hadn't\": \"had not\",\n",
    "  \"hadn't've\": \"had not have\",\n",
    "  \"hasn't\": \"has not\",\n",
    "  \"haven't\": \"have not\",\n",
    "  \"he'd\": \"he would\",\n",
    "  \"he'd've\": \"he would have\",\n",
    "  \"he'll\": \"he will\",\n",
    "  \"he'll've\": \"he will have\",\n",
    "  \"he's\": \"he is\",\n",
    "  \"how'd\": \"how did\",\n",
    "  \"how'd'y\": \"how do you\",\n",
    "  \"how'll\": \"how will\",\n",
    "  \"how's\": \"how is\",\n",
    "  \"i'd\": \"i would\",\n",
    "  \"i'd've\": \"i would have\",\n",
    "  \"i'll\": \"i will\",\n",
    "  \"i'll've\": \"i will have\",\n",
    "  \"i'm\": \"i am\",\n",
    "  \"i've\": \"i have\",\n",
    "  \"isn't\": \"is not\",\n",
    "  \"it'd\": \"it had\",\n",
    "  \"it'd've\": \"it would have\",\n",
    "  \"it'll\": \"it will\",\n",
    "  \"it'll've\": \"it will have\",\n",
    "  \"it's\": \"it is\",\n",
    "  \"let's\": \"let us\",\n",
    "  \"ma'am\": \"madam\",\n",
    "  \"mayn't\": \"may not\",\n",
    "  \"might've\": \"might have\",\n",
    "  \"mightn't\": \"might not\",\n",
    "  \"mightn't've\": \"might not have\",\n",
    "  \"must've\": \"must have\",\n",
    "  \"mustn't\": \"must not\",\n",
    "  \"mustn't've\": \"must not have\",\n",
    "  \"needn't\": \"need not\",\n",
    "  \"needn't've\": \"need not have\",\n",
    "  \"o'clock\": \"of the clock\",\n",
    "  \"oughtn't\": \"ought not\",\n",
    "  \"oughtn't've\": \"ought not have\",\n",
    "  \"shan't\": \"shall not\",\n",
    "  \"sha'n't\": \"shall not\",\n",
    "  \"shan't've\": \"shall not have\",\n",
    "  \"she'd\": \"she would\",\n",
    "  \"she'd've\": \"she would have\",\n",
    "  \"she'll\": \"she will\",\n",
    "  \"she'll've\": \"she will have\",\n",
    "  \"she's\": \"she is\",\n",
    "  \"should've\": \"should have\",\n",
    "  \"shouldn't\": \"should not\",\n",
    "  \"shouldn't've\": \"should not have\",\n",
    "  \"so've\": \"so have\",\n",
    "  \"so's\": \"so is\",\n",
    "  \"that'd\": \"that would\",\n",
    "  \"that'd've\": \"that would have\",\n",
    "  \"that's\": \"that is\",\n",
    "  \"there'd\": \"there had\",\n",
    "  \"there'd've\": \"there would have\",\n",
    "  \"there's\": \"there is\",\n",
    "  \"they'd\": \"they would\",\n",
    "  \"they'd've\": \"they would have\",\n",
    "  \"they'll\": \"they will\",\n",
    "  \"they'll've\": \"they will have\",\n",
    "  \"they're\": \"they are\",\n",
    "  \"they've\": \"they have\",\n",
    "  \"to've\": \"to have\",\n",
    "  \"wasn't\": \"was not\",\n",
    "  \"we'd\": \"we had\",\n",
    "  \"we'd've\": \"we would have\",\n",
    "  \"we'll\": \"we will\",\n",
    "  \"we'll've\": \"we will have\",\n",
    "  \"we're\": \"we are\",\n",
    "  \"we've\": \"we have\",\n",
    "  \"weren't\": \"were not\",\n",
    "  \"what'll\": \"what will\",\n",
    "  \"what'll've\": \"what will have\",\n",
    "  \"what're\": \"what are\",\n",
    "  \"what's\": \"what is\",\n",
    "  \"what've\": \"what have\",\n",
    "  \"when's\": \"when is\",\n",
    "  \"when've\": \"when have\",\n",
    "  \"where'd\": \"where did\",\n",
    "  \"where's\": \"where is\",\n",
    "  \"where've\": \"where have\",\n",
    "  \"who'll\": \"who will\",\n",
    "  \"who'll've\": \"who will have\",\n",
    "  \"who's\": \"who is\",\n",
    "  \"who've\": \"who have\",\n",
    "  \"why's\": \"why is\",\n",
    "  \"why've\": \"why have\",\n",
    "  \"will've\": \"will have\",\n",
    "  \"won't\": \"will not\",\n",
    "  \"won't've\": \"will not have\",\n",
    "  \"would've\": \"would have\",\n",
    "  \"wouldn't\": \"would not\",\n",
    "  \"wouldn't've\": \"would not have\",\n",
    "  \"y'all\": \"you all\",\n",
    "  \"y'alls\": \"you alls\",\n",
    "  \"y'all'd\": \"you all would\",\n",
    "  \"y'all'd've\": \"you all would have\",\n",
    "  \"y'all're\": \"you all are\",\n",
    "  \"y'all've\": \"you all have\",\n",
    "  \"you'd\": \"you had\",\n",
    "  \"you'd've\": \"you would have\",\n",
    "  \"you'll\": \"you you will\",\n",
    "  \"you'll've\": \"you you will have\",\n",
    "  \"you're\": \"you are\",\n",
    "  \"you've\": \"you have\"\n",
    "}\n",
    "\n",
    "c_re = re.compile('(%s)' % '|'.join(cList.keys()))\n",
    "\n",
    "def expandContractions(text, c_re=c_re):\n",
    "    def replace(match):\n",
    "        return cList[match.group(0)]\n",
    "    return c_re.sub(replace, text.lower())\n",
    "\n",
    "def replace_contractions(tweet):\n",
    "    text = expandContractions(tweet)\n",
    "    return text\n",
    "\n",
    "xdf = xdf.apply(replace_contractions)"
   ]
  },
  {
   "cell_type": "code",
   "execution_count": 8,
   "metadata": {},
   "outputs": [],
   "source": [
    "Emoticons = {':‑)':'positive',':)':'positive',':-]':'positive',':]':'positive',':-3':'positive',':3':'positive',':->':'positive',\n",
    "             ':>':'positive','8-)':'positive','8)':'positive',':-}':'positive',':}':'positive',':o)':'positive',':c)':'positive',\n",
    "             ':^)':'positive','=]':'positive',\":‑,\":\"positive\",\";D\":\"positive\",\"(;\":\"positive\",\";‑)\":\"positive\",\";)\":\"positive\",\n",
    "             \"*-)\":\"positive\",\"*)\":\"positive\",\";‑]\":\"positive\",\";]\":\"positive\",\";^)\":\"positive\",\"<3\":\"positive\",\n",
    "             \":'‑)\":\"extremely positive\",\":')\":\"extremely positive\",':‑D':'extremely positive',':D':'extremely positive',\n",
    "             '8‑D':'extremely positive','8D':'extremely positive','x‑D':'extremely positive','xD':'extremely positive',\n",
    "             'X‑D':'extremely positive','XD':'extremely positive','=D':'extremely positive','=3':'extremely positive',\n",
    "             'B^D':'extremely positive',':-))':'extremely positive',':))':'extremely positive',\n",
    "             ':‑(':'negative',':(':'negative',':‑c':'negative',':c':'negative',\n",
    "             ':‑<':'negative',':<':'negative',':‑[':'negative',':[':'negative',':-||':'negative','>:[':'negative',':{':'negative',\n",
    "             ':@':'negative',':(':'negative',\"</3\":\"negative\",\"<\\3\":\"negative\",\n",
    "             \":'‑(\":\"extremely negative\",\":'(\":\"extremely negative\",\n",
    "             \":‑O\":\"neutral\",\":O\":\"neutral\",\":‑o\":\"neutral\",\":o\":\"neutral\",\":-0\":\"neutral\",\"8‑0\":\"neutral\",\">:O\":\"neutral\"}\n",
    "\n",
    "def replace_emoticons(tweet):\n",
    "    words = tweet.split()\n",
    "    reformed = [Emoticons[word] if word in Emoticons else word for word in words]\n",
    "    text = \" \".join(reformed)\n",
    "    return text\n",
    "\n",
    "xdf = xdf.apply(replace_emoticons)"
   ]
  },
  {
   "cell_type": "code",
   "execution_count": 9,
   "metadata": {},
   "outputs": [],
   "source": [
    "import itertools\n",
    "\n",
    "def remove_repetetion(tweet):\n",
    "    text = ''.join(''.join(s)[:2] for _, s in itertools.groupby(tweet))\n",
    "    return text\n",
    "\n",
    "xdf = xdf.apply(remove_repetetion)"
   ]
  },
  {
   "cell_type": "code",
   "execution_count": 10,
   "metadata": {},
   "outputs": [],
   "source": [
    "import nltk\n",
    "from nltk.corpus import stopwords\n",
    "def remove_stopwords(tweets):\n",
    "    data = [word for word in tweets.split() if word.lower() not in stopwords.words('english')]\n",
    "    data = ' '.join(data)\n",
    "    return data"
   ]
  },
  {
   "cell_type": "code",
   "execution_count": 11,
   "metadata": {},
   "outputs": [],
   "source": [
    "xdf = xdf.apply(remove_stopwords)"
   ]
  },
  {
   "cell_type": "code",
   "execution_count": 12,
   "metadata": {},
   "outputs": [],
   "source": [
    "max_features = 35000        # maximum number of word to keep\n",
    "\n",
    "x_tokenizer = text.Tokenizer(max_features)\n",
    "x_tokenizer.fit_on_texts(xdf)\n",
    "x = x_tokenizer.texts_to_sequences(xdf)\n",
    "X = sequence.pad_sequences(x)"
   ]
  },
  {
   "cell_type": "code",
   "execution_count": 13,
   "metadata": {},
   "outputs": [],
   "source": [
    "embedding_dim = 300\n",
    "embedding_matrix = np.zeros((max_features, embedding_dim))\n",
    "for word, index in x_tokenizer.word_index.items():\n",
    "    if index > max_features - 1:\n",
    "        break\n",
    "    else:    \n",
    "        embedding_vector = embeddings_index.get(word)\n",
    "        if embedding_vector is not None:\n",
    "            embedding_matrix[index] = embedding_vector           "
   ]
  },
  {
   "cell_type": "code",
   "execution_count": 14,
   "metadata": {},
   "outputs": [],
   "source": [
    "X_train, X_val, Y_train, Y_val = train_test_split(X, Y, test_size = 0.10)\n",
    "\n",
    "embedding_layer = layers.Embedding(max_features,embedding_dim, embeddings_initializer = keras.initializers.Constant(embedding_matrix),\n",
    "                                    trainable = False)"
   ]
  },
  {
   "cell_type": "code",
   "execution_count": 15,
   "metadata": {},
   "outputs": [
    {
     "name": "stdout",
     "output_type": "stream",
     "text": [
      "Model: \"sequential\"\n",
      "_________________________________________________________________\n",
      "Layer (type)                 Output Shape              Param #   \n",
      "=================================================================\n",
      "embedding (Embedding)        (None, None, 300)         10500000  \n",
      "_________________________________________________________________\n",
      "spatial_dropout1d (SpatialDr (None, None, 300)         0         \n",
      "_________________________________________________________________\n",
      "bidirectional (Bidirectional (None, None, 128)         186880    \n",
      "_________________________________________________________________\n",
      "conv1d (Conv1D)              (None, None, 64)          24640     \n",
      "_________________________________________________________________\n",
      "max_pooling1d (MaxPooling1D) (None, None, 64)          0         \n",
      "_________________________________________________________________\n",
      "global_max_pooling1d (Global (None, 64)                0         \n",
      "_________________________________________________________________\n",
      "dropout (Dropout)            (None, 64)                0         \n",
      "_________________________________________________________________\n",
      "dense (Dense)                (None, 3)                 195       \n",
      "_________________________________________________________________\n",
      "dense_1 (Dense)              (None, 3)                 12        \n",
      "=================================================================\n",
      "Total params: 10,711,727\n",
      "Trainable params: 211,727\n",
      "Non-trainable params: 10,500,000\n",
      "_________________________________________________________________\n"
     ]
    }
   ],
   "source": [
    "model = keras.Sequential()\n",
    "model.add(embedding_layer)\n",
    "model.add(layers.SpatialDropout1D(0.4))\n",
    "model.add(layers.Bidirectional(layers.LSTM(64, return_sequences = True, dropout = 0.1, recurrent_dropout = 0.1)))\n",
    "model.add(layers.Conv1D(64, 3, activation = keras.activations.tanh))\n",
    "model.add(layers.MaxPooling1D())\n",
    "model.add(layers.GlobalMaxPooling1D())\n",
    "model.add(layers.Dropout(0.6))\n",
    "model.add(layers.Dense(3, activation = keras.activations.relu)) \n",
    "\n",
    "model.add(layers.Dense(3, activation = keras.activations.softmax))\n",
    "model.summary()"
   ]
  },
  {
   "cell_type": "code",
   "execution_count": 16,
   "metadata": {},
   "outputs": [
    {
     "name": "stdout",
     "output_type": "stream",
     "text": [
      "Epoch 1/20\n",
      "302/302 [==============================] - 767s 3s/step - loss: 1.0158 - accuracy: 0.4981 - val_loss: 0.9192 - val_accuracy: 0.5599\n",
      "Epoch 2/20\n",
      "302/302 [==============================] - 771s 3s/step - loss: 0.8860 - accuracy: 0.5746 - val_loss: 0.8546 - val_accuracy: 0.6046\n",
      "Epoch 3/20\n",
      "302/302 [==============================] - 774s 3s/step - loss: 0.8404 - accuracy: 0.6088 - val_loss: 0.8306 - val_accuracy: 0.6167\n",
      "Epoch 4/20\n",
      "302/302 [==============================] - 782s 3s/step - loss: 0.8132 - accuracy: 0.6284 - val_loss: 0.8084 - val_accuracy: 0.6223\n",
      "Epoch 5/20\n",
      "302/302 [==============================] - 778s 3s/step - loss: 0.7917 - accuracy: 0.6451 - val_loss: 0.8000 - val_accuracy: 0.6325\n",
      "Epoch 6/20\n",
      "302/302 [==============================] - 780s 3s/step - loss: 0.7750 - accuracy: 0.6511 - val_loss: 0.7915 - val_accuracy: 0.6390\n",
      "Epoch 7/20\n",
      "302/302 [==============================] - 764s 3s/step - loss: 0.7556 - accuracy: 0.6670 - val_loss: 0.8008 - val_accuracy: 0.6316\n",
      "Epoch 8/20\n",
      "302/302 [==============================] - 770s 3s/step - loss: 0.7397 - accuracy: 0.6765 - val_loss: 0.7866 - val_accuracy: 0.6390\n",
      "Epoch 9/20\n",
      "302/302 [==============================] - 767s 3s/step - loss: 0.7218 - accuracy: 0.6844 - val_loss: 0.7939 - val_accuracy: 0.6460\n",
      "Epoch 10/20\n",
      "302/302 [==============================] - 785s 3s/step - loss: 0.7134 - accuracy: 0.6908 - val_loss: 0.7956 - val_accuracy: 0.6409\n",
      "Epoch 11/20\n",
      "302/302 [==============================] - 794s 3s/step - loss: 0.6946 - accuracy: 0.7039 - val_loss: 0.7953 - val_accuracy: 0.6446\n"
     ]
    }
   ],
   "source": [
    "callback = keras.callbacks.EarlyStopping(monitor = 'val_loss', patience = 3, mode = 'auto')\n",
    "\n",
    "model.compile(loss = 'categorical_crossentropy', metrics=[\"accuracy\"],\n",
    "              optimizer = keras.optimizers.Adam(learning_rate = 0.001, epsilon = 1e-08))\n",
    "\n",
    "his = model.fit(X_train, Y_train, epochs = 20, batch_size = 64, callbacks = [callback], validation_data=(X_val, Y_val))"
   ]
  },
  {
   "cell_type": "code",
   "execution_count": 17,
   "metadata": {},
   "outputs": [
    {
     "data": {
      "text/plain": [
       "[<matplotlib.lines.Line2D at 0x7f4858753890>]"
      ]
     },
     "execution_count": 17,
     "metadata": {},
     "output_type": "execute_result"
    },
    {
     "data": {
      "image/png": "[encoded data removed]",
      "text/plain": [
       "<Figure size 432x288 with 1 Axes>"
      ]
     },
     "metadata": {
      "needs_background": "light"
     },
     "output_type": "display_data"
    }
   ],
   "source": [
    "import matplotlib.pyplot as plt\n",
    "plt.plot(his.history['loss'])\n",
    "plt.plot(his.history['val_loss'])"
   ]
  },
  {
   "cell_type": "code",
   "execution_count": 18,
   "metadata": {},
   "outputs": [
    {
     "data": {
      "image/png": "[encoded data removed]",
      "text/plain": [
       "<Figure size 432x288 with 1 Axes>"
      ]
     },
     "metadata": {
      "needs_background": "light"
     },
     "output_type": "display_data"
    }
   ],
   "source": [
    "plt.plot(his.history['accuracy'])\n",
    "plt.plot(his.history['val_accuracy'])\n",
    "plt.title('model accuracy')\n",
    "plt.ylabel('accuracy')\n",
    "plt.xlabel('epoch')\n",
    "plt.legend(['train', 'val'], loc='upper left')\n",
    "plt.show()"
   ]
  },
  {
   "cell_type": "code",
   "execution_count": 19,
   "metadata": {},
   "outputs": [],
   "source": [
    "x_test = df_test['tweet_text'].apply(replace_unicodes)\n",
    "x_test = x_test.apply(preprocess)\n",
    "x_test = x_test.apply(replace_contractions)\n",
    "x_test = x_test.apply(replace_emoticons)\n",
    "x_test = x_test.apply(remove_repetetion)\n",
    "x_test = x_test.apply(remove_stopwords)"
   ]
  },
  {
   "cell_type": "code",
   "execution_count": 20,
   "metadata": {},
   "outputs": [],
   "source": [
    "x_test_tokenized = x_tokenizer.texts_to_sequences(x_test)\n",
    "X_test = sequence.pad_sequences(x_test_tokenized)\n",
    "Y_test = model.predict(X_test, batch_size = 64)\n",
    "y_test = np.argmax(Y_test, axis = 1)\n",
    "Y_test = list(le.inverse_transform(y_test))"
   ]
  },
  {
   "cell_type": "code",
   "execution_count": 21,
   "metadata": {},
   "outputs": [],
   "source": [
    "df2 = pd.DataFrame({'tweet_id': df_test['tweet_id'].values,\n",
    "                    'sentiment': Y_test})\n",
    "df2.to_csv(r'/kaggle/working/Submission9.csv',index=False)"
   ]
  },
  {
   "cell_type": "code",
   "execution_count": null,
   "metadata": {},
   "outputs": [],
   "source": []
  }
 ],
 "metadata": {
  "kernelspec": {
   "display_name": "Python 3",
   "language": "python",
   "name": "python3"
  },
  "language_info": {
   "codemirror_mode": {
    "name": "ipython",
    "version": 3
   },
   "file_extension": ".py",
   "mimetype": "text/x-python",
   "name": "python",
   "nbconvert_exporter": "python",
   "pygments_lexer": "ipython3",
   "version": "3.7.6"
  }
 },
 "nbformat": 4,
 "nbformat_minor": 4
}
